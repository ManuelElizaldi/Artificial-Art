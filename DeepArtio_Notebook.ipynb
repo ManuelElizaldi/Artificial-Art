{
 "cells": [
  {
   "cell_type": "code",
   "execution_count": 9,
   "metadata": {},
   "outputs": [
    {
     "ename": "FileNotFoundError",
     "evalue": "[Errno 2] No such file or directory: '--ip=127.0.0.1'",
     "output_type": "error",
     "traceback": [
      "\u001b[1;31m---------------------------------------------------------------------------\u001b[0m",
      "\u001b[1;31mFileNotFoundError\u001b[0m                         Traceback (most recent call last)",
      "\u001b[1;32m<ipython-input-9-0e6e6a8fbf1a>\u001b[0m in \u001b[0;36m<module>\u001b[1;34m\u001b[0m\n\u001b[0;32m      8\u001b[0m                   data={'style': sys.argv[2],\n\u001b[0;32m      9\u001b[0m                         'return_url': 'http://my.return/' },\n\u001b[1;32m---> 10\u001b[1;33m                   files={ 'input_image': (r'C:\\Users\\Manuel Elizaldi\\Desktop\\Learning-Testing\\Artificial-Art\\Resources\\image.jpg', open(sys.argv[1], 'rb'), 'image/jpeg' ) } )\n\u001b[0m\u001b[0;32m     11\u001b[0m \u001b[0mimg\u001b[0m\u001b[1;33m=\u001b[0m\u001b[0mr\u001b[0m\u001b[1;33m.\u001b[0m\u001b[0mtext\u001b[0m\u001b[1;33m\u001b[0m\u001b[1;33m\u001b[0m\u001b[0m\n",
      "\u001b[1;31mFileNotFoundError\u001b[0m: [Errno 2] No such file or directory: '--ip=127.0.0.1'"
     ]
    }
   ],
   "source": [
    "import requests\n",
    "import urllib\n",
    "import time\n",
    "import sys\n",
    "from PIL import Image\n",
    "\n",
    "r = requests.post('http://turbo.deepart.io/api/post/',\n",
    "                  data={'style': sys.argv[2],\n",
    "                        'return_url': 'http://my.return/' },\n",
    "                  files={ 'input_image': (r'C:\\Users\\Manuel Elizaldi\\Desktop\\Learning-Testing\\Artificial-Art\\Resources\\image.jpg', open(sys.argv[1], 'rb'), 'image/jpeg' ) } )\n",
    "img=r.text"
   ]
  },
  {
   "cell_type": "code",
   "execution_count": null,
   "metadata": {},
   "outputs": [],
   "source": [
    "link=(\"http://turbo.deepart.io/media/output/%s.jpg\" % img)\n",
    "print(link)\n",
    "\n",
    "max_num_seconds = 15\n",
    "\n",
    "for i in range(max_num_seconds):\n",
    "\n",
    "    time.sleep(1)\n",
    "    urllib.urlretrieve (link, \"res.jpg\")\n",
    " \n",
    "    try:\n",
    "        img = Image.open(\"res.jpg\")\n",
    "        img.close()\n",
    "        break\n",
    "\n",
    "    except:\n",
    "        print(\"Try #\"+str(i+1)+\": Retrieving image failed (deepart-api needs more time). Trying again after 1s.\")"
   ]
  },
  {
   "cell_type": "code",
   "execution_count": null,
   "metadata": {},
   "outputs": [],
   "source": []
  }
 ],
 "metadata": {
  "kernelspec": {
   "display_name": "base",
   "language": "python",
   "name": "python3"
  },
  "language_info": {
   "codemirror_mode": {
    "name": "ipython",
    "version": 3
   },
   "file_extension": ".py",
   "mimetype": "text/x-python",
   "name": "python",
   "nbconvert_exporter": "python",
   "pygments_lexer": "ipython3",
   "version": "3.8.5"
  },
  "orig_nbformat": 4
 },
 "nbformat": 4,
 "nbformat_minor": 2
}
